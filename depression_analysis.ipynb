{
 "cells": [
  {
   "cell_type": "code",
   "execution_count": 2,
   "metadata": {
    "_cell_guid": "79c7e3d0-c299-4dcb-8224-4455121ee9b0",
    "_uuid": "d629ff2d2480ee46fbb7e2d37f6b5fab8052498a",
    "execution": {
     "iopub.execute_input": "2022-02-04T06:55:39.704148Z",
     "iopub.status.busy": "2022-02-04T06:55:39.703034Z",
     "iopub.status.idle": "2022-02-04T06:55:47.823319Z",
     "shell.execute_reply": "2022-02-04T06:55:47.822609Z"
    },
    "papermill": {
     "duration": 8.168869,
     "end_time": "2022-02-04T06:55:47.823445",
     "exception": false,
     "start_time": "2022-02-04T06:55:39.654576",
     "status": "completed"
    },
    "tags": []
   },
   "outputs": [
    {
     "name": "stderr",
     "output_type": "stream",
     "text": [
      "/opt/conda/lib/python3.7/site-packages/ipykernel_launcher.py:38: FutureWarning: pandas.util.testing is deprecated. Use the functions in the public API at pandas.testing instead.\n"
     ]
    }
   ],
   "source": [
    "import numpy as np\n",
    "import matplotlib.pyplot as plt\n",
    "import pandas as pd\n",
    "from sklearn.model_selection import train_test_split\n",
    "from sklearn.ensemble import RandomForestClassifier, BaggingClassifier\n",
    "from sklearn import model_selection\n",
    "from sklearn.ensemble import BaggingClassifier\n",
    "from sklearn.ensemble import ExtraTreesClassifier\n",
    "from sklearn.ensemble import AdaBoostClassifier\n",
    "from sklearn.ensemble import GradientBoostingClassifier\n",
    "from sklearn.metrics import classification_report\n",
    "from sklearn.tree import DecisionTreeClassifier\n",
    "from sklearn.linear_model import LogisticRegression\n",
    "from sklearn.neighbors import KNeighborsClassifier\n",
    "from sklearn.pipeline import Pipeline\n",
    "from sklearn.linear_model import SGDClassifier\n",
    "import category_encoders as ce\n",
    "import plotly.graph_objs as go\n",
    "from tqdm import tqdm\n",
    "from sklearn.preprocessing import LabelEncoder\n",
    "from sklearn.metrics import accuracy_score\n",
    "from sklearn.ensemble  import RandomForestClassifier\n",
    "from sklearn.tree import DecisionTreeClassifier\n",
    "from sklearn.naive_bayes import GaussianNB\n",
    "from sklearn.svm import SVC\n",
    "from keras.layers import Dense, Dropout, LSTM, Embedding\n",
    "from keras.preprocessing.sequence import pad_sequences\n",
    "from keras.models import Sequential\n",
    "from sklearn.metrics import confusion_matrix \n",
    "import seaborn as sn\n",
    "from keras.models import Sequential\n",
    "from keras.layers import Dense\n",
    "from keras.wrappers.scikit_learn import KerasClassifier\n",
    "from sklearn.model_selection import cross_val_score\n",
    "from sklearn.model_selection import StratifiedKFold\n",
    "from sklearn.preprocessing import StandardScaler\n",
    "from sklearn.pipeline import Pipeline\n",
    "import pandas.util.testing as tm"
   ]
  },
  {
   "cell_type": "code",
   "execution_count": null,
   "metadata": {
    "papermill": {
     "duration": null,
     "end_time": null,
     "exception": null,
     "start_time": null,
     "status": "pending"
    },
    "tags": []
   },
   "outputs": [],
   "source": [
    "dataset=pd.read_csv('depression_cleaned.csv')\n",
    "df=dataset"
   ]
  },
  {
   "cell_type": "code",
   "execution_count": null,
   "metadata": {
    "papermill": {
     "duration": null,
     "end_time": null,
     "exception": null,
     "start_time": null,
     "status": "pending"
    },
    "tags": []
   },
   "outputs": [],
   "source": [
    "df.drop('Unnamed: 0', axis=1, inplace=True)"
   ]
  },
  {
   "cell_type": "code",
   "execution_count": null,
   "metadata": {
    "papermill": {
     "duration": null,
     "end_time": null,
     "exception": null,
     "start_time": null,
     "status": "pending"
    },
    "tags": []
   },
   "outputs": [],
   "source": [
    "df.describe()"
   ]
  },
  {
   "cell_type": "code",
   "execution_count": null,
   "metadata": {
    "papermill": {
     "duration": null,
     "end_time": null,
     "exception": null,
     "start_time": null,
     "status": "pending"
    },
    "tags": []
   },
   "outputs": [],
   "source": [
    "list(df)"
   ]
  },
  {
   "cell_type": "code",
   "execution_count": null,
   "metadata": {
    "papermill": {
     "duration": null,
     "end_time": null,
     "exception": null,
     "start_time": null,
     "status": "pending"
    },
    "tags": []
   },
   "outputs": [],
   "source": [
    "for j in range(0,15):\n",
    "    d=0\n",
    "    nd=0\n",
    "    for i in range (0,1429):\n",
    "        if df['Number_children'][i]==j and df['depressed'][i]==1:\n",
    "            d=d+1\n",
    "        elif df['Number_children'][i]==j and df['depressed'][i]==0:\n",
    "           nd=nd+1\n",
    "    if (d+nd)!=0:\n",
    "        print(j, (nd/(d+nd)), (d/(d+nd)))\n"
   ]
  },
  {
   "cell_type": "code",
   "execution_count": null,
   "metadata": {
    "papermill": {
     "duration": null,
     "end_time": null,
     "exception": null,
     "start_time": null,
     "status": "pending"
    },
    "tags": []
   },
   "outputs": [],
   "source": [
    "df.groupby('depressed').size()"
   ]
  },
  {
   "cell_type": "code",
   "execution_count": null,
   "metadata": {
    "papermill": {
     "duration": null,
     "end_time": null,
     "exception": null,
     "start_time": null,
     "status": "pending"
    },
    "tags": []
   },
   "outputs": [],
   "source": [
    "df.groupby(['sex','Married','depressed']).size()"
   ]
  },
  {
   "cell_type": "code",
   "execution_count": null,
   "metadata": {
    "papermill": {
     "duration": null,
     "end_time": null,
     "exception": null,
     "start_time": null,
     "status": "pending"
    },
    "tags": []
   },
   "outputs": [],
   "source": [
    "df.groupby(['sex','depressed']).size()"
   ]
  },
  {
   "cell_type": "code",
   "execution_count": null,
   "metadata": {
    "papermill": {
     "duration": null,
     "end_time": null,
     "exception": null,
     "start_time": null,
     "status": "pending"
    },
    "tags": []
   },
   "outputs": [],
   "source": [
    "\n",
    "\n",
    "for j in range(17,100):\n",
    "    d=0\n",
    "    nd=0\n",
    "    for i in range (0,1429):\n",
    "        if df['Age'][i]==j and df['depressed'][i]==1:\n",
    "            d=d+1\n",
    "        elif df['Age'][i]==j and df['depressed'][i]==0:\n",
    "           nd=nd+1\n",
    "    if (d+nd)!=0:\n",
    "        print(j, (nd/(d+nd)), (d/(d+nd)))\n"
   ]
  },
  {
   "cell_type": "code",
   "execution_count": null,
   "metadata": {
    "papermill": {
     "duration": null,
     "end_time": null,
     "exception": null,
     "start_time": null,
     "status": "pending"
    },
    "tags": []
   },
   "outputs": [],
   "source": [
    "\n",
    "for j in range(0,15):\n",
    "    d=0\n",
    "    nd=0\n",
    "    for i in range (0,1429):\n",
    "        if df['education_level'][i]==j and df['depressed'][i]==1:\n",
    "            d=d+1\n",
    "        elif df['education_level'][i]==j and df['depressed'][i]==0:\n",
    "           nd=nd+1\n",
    "    if (d+nd)!=0:\n",
    "        print(j, (nd/(d+nd)), (d/(d+nd)))"
   ]
  },
  {
   "cell_type": "code",
   "execution_count": null,
   "metadata": {
    "papermill": {
     "duration": null,
     "end_time": null,
     "exception": null,
     "start_time": null,
     "status": "pending"
    },
    "tags": []
   },
   "outputs": [],
   "source": [
    "fig= plt.figure(figsize=(30,20))\n",
    "sn.heatmap(df.corr(), annot=True,fmt=\".2f\")\n",
    "plt.show()"
   ]
  },
  {
   "cell_type": "code",
   "execution_count": null,
   "metadata": {
    "papermill": {
     "duration": null,
     "end_time": null,
     "exception": null,
     "start_time": null,
     "status": "pending"
    },
    "tags": []
   },
   "outputs": [],
   "source": [
    "X = df.iloc[:, 0:22].values\n",
    "y = df.iloc[:,22].values"
   ]
  },
  {
   "cell_type": "code",
   "execution_count": null,
   "metadata": {
    "papermill": {
     "duration": null,
     "end_time": null,
     "exception": null,
     "start_time": null,
     "status": "pending"
    },
    "tags": []
   },
   "outputs": [],
   "source": [
    "# Splitting the dataset into the Training set and Test set\n",
    "from sklearn.model_selection import train_test_split\n",
    "X_train, X_test, y_train, y_test = train_test_split(X, y, test_size = 0.25, random_state = 0)"
   ]
  },
  {
   "cell_type": "code",
   "execution_count": null,
   "metadata": {
    "papermill": {
     "duration": null,
     "end_time": null,
     "exception": null,
     "start_time": null,
     "status": "pending"
    },
    "tags": []
   },
   "outputs": [],
   "source": [
    "# Feature Scaling\n",
    "from sklearn.preprocessing import StandardScaler\n",
    "sc = StandardScaler()\n",
    "X_train = sc.fit_transform(X_train)\n",
    "X_test = sc.transform(X_test)"
   ]
  },
  {
   "cell_type": "code",
   "execution_count": null,
   "metadata": {
    "papermill": {
     "duration": null,
     "end_time": null,
     "exception": null,
     "start_time": null,
     "status": "pending"
    },
    "tags": []
   },
   "outputs": [],
   "source": [
    "from sklearn.neighbors import KNeighborsClassifier\n",
    "accuracy=[]\n",
    "for i in range(1,41):\n",
    "    knn = KNeighborsClassifier(n_neighbors = i)  # n_neighbors means k\n",
    "    knn.fit(X_train, y_train)\n",
    "    y_pred_knn = knn.predict(X_test)\n",
    "    accuracy.append(accuracy_score(y_test, y_pred_knn))\n",
    "    print(\" N= {}, Accuracy {:.2f}%\".format(i,accuracy_score(y_test, y_pred_knn)*100))\n",
    "   \n",
    "plt.plot(range(1,41),accuracy)\n",
    "plt.xticks(np.arange(1,41,1))\n",
    "plt.show()"
   ]
  },
  {
   "cell_type": "code",
   "execution_count": null,
   "metadata": {
    "papermill": {
     "duration": null,
     "end_time": null,
     "exception": null,
     "start_time": null,
     "status": "pending"
    },
    "tags": []
   },
   "outputs": [],
   "source": [
    "knn = KNeighborsClassifier(n_neighbors = 7)  # n_neighbors means k\n",
    "knn.fit(X_train, y_train)\n",
    "y_pred_knn = knn.predict(X_test)\n",
    "print(\"KNNClassifier\")\n",
    "print(\"Accuracy: {:.2f}%\".format(accuracy_score(y_test, y_pred_knn)*100))\n",
    "print(classification_report(y_test, y_pred_knn))"
   ]
  },
  {
   "cell_type": "code",
   "execution_count": null,
   "metadata": {
    "papermill": {
     "duration": null,
     "end_time": null,
     "exception": null,
     "start_time": null,
     "status": "pending"
    },
    "tags": []
   },
   "outputs": [],
   "source": [
    "from sklearn.cluster import KMeans\n",
    "kmeans = KMeans(n_clusters =2, init = 'k-means++', random_state =0)\n",
    "kmeans.fit(X_train,y_train)\n",
    "labels = kmeans.predict(X_train)\n",
    "km_y_pred=kmeans.predict(X_test)\n",
    "km_acc = accuracy_score(y_test, km_y_pred)\n",
    "print(km_acc)\n",
    "print(classification_report(y_test, km_y_pred))"
   ]
  },
  {
   "cell_type": "code",
   "execution_count": null,
   "metadata": {
    "papermill": {
     "duration": null,
     "end_time": null,
     "exception": null,
     "start_time": null,
     "status": "pending"
    },
    "tags": []
   },
   "outputs": [],
   "source": [
    "from sklearn.ensemble  import RandomForestClassifier\n",
    "RF = RandomForestClassifier(n_estimators=100, criterion='entropy', random_state=0)  \n",
    "RF.fit(X_train, y_train)\n",
    "y_pred_RF = RF.predict(X_test)\n",
    "print(\"RandomForestClassifier\")\n",
    "print(\"Accuracy: {:.2f}%\".format(accuracy_score(y_test, y_pred_RF)*100))\n",
    "print(classification_report(y_test, y_pred_RF))"
   ]
  },
  {
   "cell_type": "code",
   "execution_count": null,
   "metadata": {
    "papermill": {
     "duration": null,
     "end_time": null,
     "exception": null,
     "start_time": null,
     "status": "pending"
    },
    "tags": []
   },
   "outputs": [],
   "source": [
    "from sklearn.tree import DecisionTreeClassifier\n",
    "dtclassifier= DecisionTreeClassifier(criterion='entropy')\n",
    "dtclassifier.fit(X_train,y_train)\n",
    "y_pred_DT = dtclassifier.predict(X_test)\n",
    "print(\"DecisionTreeClassifier\")\n",
    "print(\"Accuracy: {:.2f}%\".format(accuracy_score(y_test, y_pred_DT)*100))\n",
    "print(classification_report(y_test, y_pred_DT))"
   ]
  },
  {
   "cell_type": "code",
   "execution_count": null,
   "metadata": {
    "papermill": {
     "duration": null,
     "end_time": null,
     "exception": null,
     "start_time": null,
     "status": "pending"
    },
    "tags": []
   },
   "outputs": [],
   "source": [
    "from sklearn.naive_bayes import GaussianNB\n",
    "nbclassifier=GaussianNB()\n",
    "nbclassifier.fit(X_train, y_train)\n",
    "nb_y_pred = nbclassifier.predict(X_test)\n",
    "print(\"GaussianNB\")\n",
    "print(\"Accuracy: {:.2f}%\".format(accuracy_score(y_test, nb_y_pred)*100))\n",
    "print(classification_report(y_test, nb_y_pred))"
   ]
  },
  {
   "cell_type": "code",
   "execution_count": null,
   "metadata": {
    "papermill": {
     "duration": null,
     "end_time": null,
     "exception": null,
     "start_time": null,
     "status": "pending"
    },
    "tags": []
   },
   "outputs": [],
   "source": [
    "svmkclassifier =SVC(kernel ='rbf',random_state=0,gamma='auto')\n",
    "svmkclassifier.fit(X_train, y_train)\n",
    "y_pred_SVMK = svmkclassifier.predict(X_test)\n",
    "print(\"svmkclassifier\")\n",
    "print(\"Accuracy: {:.2f}%\".format(accuracy_score(y_test, y_pred_SVMK)*100))\n",
    "print(classification_report(y_test, y_pred_SVMK))"
   ]
  },
  {
   "cell_type": "code",
   "execution_count": null,
   "metadata": {
    "papermill": {
     "duration": null,
     "end_time": null,
     "exception": null,
     "start_time": null,
     "status": "pending"
    },
    "tags": []
   },
   "outputs": [],
   "source": [
    "bg=BaggingClassifier(base_estimator=DecisionTreeClassifier(), n_estimators=100, random_state=15)\n",
    "bg.fit(X_train, y_train)\n",
    "y_pred_bg = bg.predict(X_test)\n",
    "print(\"BaggingClassifier\")\n",
    "print(\"Accuracy: {:.2f}%\".format(accuracy_score(y_test, y_pred_bg)*100))\n",
    "print(classification_report(y_test, y_pred_bg))"
   ]
  },
  {
   "cell_type": "code",
   "execution_count": null,
   "metadata": {
    "papermill": {
     "duration": null,
     "end_time": null,
     "exception": null,
     "start_time": null,
     "status": "pending"
    },
    "tags": []
   },
   "outputs": [],
   "source": [
    "et=ExtraTreesClassifier(n_estimators=100, max_features=4)\n",
    "et.fit(X_train, y_train)\n",
    "y_pred_et = et.predict(X_test)\n",
    "print(\"ExtraTreesClassifier\")\n",
    "print(\"Accuracy: {:.2f}%\".format(accuracy_score(y_test, y_pred_et)*100))\n",
    "print(classification_report(y_test, y_pred_et))"
   ]
  },
  {
   "cell_type": "code",
   "execution_count": null,
   "metadata": {
    "papermill": {
     "duration": null,
     "end_time": null,
     "exception": null,
     "start_time": null,
     "status": "pending"
    },
    "tags": []
   },
   "outputs": [],
   "source": [
    "adb=AdaBoostClassifier(n_estimators=50, random_state=4)\n",
    "adb.fit(X_train, y_train)\n",
    "y_pred_adb = adb.predict(X_test)\n",
    "print(\"AdaBoostClassifier\")\n",
    "print(\"Accuracy: {:.2f}%\".format(accuracy_score(y_test, y_pred_adb)*100))\n",
    "print(classification_report(y_test, y_pred_adb))"
   ]
  },
  {
   "cell_type": "code",
   "execution_count": null,
   "metadata": {
    "papermill": {
     "duration": null,
     "end_time": null,
     "exception": null,
     "start_time": null,
     "status": "pending"
    },
    "tags": []
   },
   "outputs": [],
   "source": [
    "gb=GradientBoostingClassifier(n_estimators=1000, random_state=4)\n",
    "gb.fit(X_train, y_train)\n",
    "y_pred_gb = gb.predict(X_test)\n",
    "print(\"GradientBoostingClassifier\")\n",
    "print(\"Accuracy: {:.2f}%\".format(accuracy_score(y_test, y_pred_gb)*100))\n",
    "print(classification_report(y_test, y_pred_gb))"
   ]
  },
  {
   "cell_type": "markdown",
   "metadata": {
    "papermill": {
     "duration": null,
     "end_time": null,
     "exception": null,
     "start_time": null,
     "status": "pending"
    },
    "tags": []
   },
   "source": [
    "CREATING INTERMEDIATE DATASET\n"
   ]
  },
  {
   "cell_type": "code",
   "execution_count": null,
   "metadata": {
    "papermill": {
     "duration": null,
     "end_time": null,
     "exception": null,
     "start_time": null,
     "status": "pending"
    },
    "tags": []
   },
   "outputs": [],
   "source": [
    "X_train1, X_test1, y_train1, y_test1 = train_test_split(X, y, test_size = 1, random_state = 0)\n",
    "from sklearn.preprocessing import StandardScaler\n",
    "sc = StandardScaler()\n",
    "X_train1 = sc.fit_transform(X_train1)\n",
    "X_test1 = sc.transform(X_test1)\n",
    "knn_new_pred=knn.predict(X_train1)\n",
    "rf_new_pred=RF.predict(X_train1)\n",
    "km_new_pred=kmeans.predict(X_train1)\n",
    "dt_new_pred=dtclassifier.predict(X_train1)\n",
    "nb_new_pred=nbclassifier.predict(X_train1)\n",
    "svm_new_pred=svmkclassifier.predict(X_train1)\n",
    "bg_new_pred=bg.predict(X_train1)\n",
    "et_new_pred=et.predict(X_train1)\n",
    "adb_new_pred=adb.predict(X_train1)\n",
    "gb_new_pred=gb.predict(X_train1)\n",
    "newdata=pd.DataFrame({\"knn\":knn_new_pred,\"km\":km_new_pred,\"rf\":rf_new_pred,\"GB\":gb_new_pred,\"ADB\":adb_new_pred,\"ET\":et_new_pred,\"BG\":bg_new_pred,\"SVM\":svm_new_pred,\"nb\":nb_new_pred,\"DT\":dt_new_pred})"
   ]
  },
  {
   "cell_type": "code",
   "execution_count": null,
   "metadata": {
    "papermill": {
     "duration": null,
     "end_time": null,
     "exception": null,
     "start_time": null,
     "status": "pending"
    },
    "tags": []
   },
   "outputs": [],
   "source": [
    "newdata"
   ]
  },
  {
   "cell_type": "code",
   "execution_count": null,
   "metadata": {
    "papermill": {
     "duration": null,
     "end_time": null,
     "exception": null,
     "start_time": null,
     "status": "pending"
    },
    "tags": []
   },
   "outputs": [],
   "source": [
    "X1 = newdata.iloc[:, 0:9].values\n",
    "y1 = newdata.iloc[:,9].values\n",
    "X_train2, X_test2, y_train2, y_test2 = train_test_split(X1, y1, test_size = 0.25, random_state = 0)"
   ]
  },
  {
   "cell_type": "code",
   "execution_count": null,
   "metadata": {
    "papermill": {
     "duration": null,
     "end_time": null,
     "exception": null,
     "start_time": null,
     "status": "pending"
    },
    "tags": []
   },
   "outputs": [],
   "source": [
    "# Feature Scaling\n",
    "from sklearn.preprocessing import StandardScaler\n",
    "sc = StandardScaler()\n",
    "X_train2 = sc.fit_transform(X_train2)\n",
    "X_test2 = sc.transform(X_test2)"
   ]
  },
  {
   "cell_type": "code",
   "execution_count": null,
   "metadata": {
    "papermill": {
     "duration": null,
     "end_time": null,
     "exception": null,
     "start_time": null,
     "status": "pending"
    },
    "tags": []
   },
   "outputs": [],
   "source": [
    "accuracy=[]\n",
    "for i in range(1,21):\n",
    "    knn = KNeighborsClassifier(n_neighbors = i)  # n_neighbors means k\n",
    "    knn.fit(X_train2, y_train2)\n",
    "    y_pred_knn2 = knn.predict(X_test2)\n",
    "    accuracy.append(accuracy_score(y_test2, y_pred_knn2))\n",
    "    print(\" N= {}, Accuracy {:.2f}%\".format(i,accuracy_score(y_test2, y_pred_knn2)*100))\n",
    "   \n",
    "plt.plot(range(1,21),accuracy)\n",
    "plt.xticks(np.arange(1,21,1))\n",
    "plt.show()"
   ]
  },
  {
   "cell_type": "code",
   "execution_count": null,
   "metadata": {
    "papermill": {
     "duration": null,
     "end_time": null,
     "exception": null,
     "start_time": null,
     "status": "pending"
    },
    "tags": []
   },
   "outputs": [],
   "source": [
    "knn = KNeighborsClassifier(n_neighbors = 11)  # n_neighbors means k\n",
    "knn.fit(X_train2, y_train2)\n",
    "y_pred_knn2 = knn.predict(X_test2)\n",
    "print(\"KNNClassifier\")\n",
    "print(\"Accuracy: {:.2f}%\".format(accuracy_score(y_test2, y_pred_knn2)*100))\n",
    "print(classification_report(y_test2, y_pred_knn2))"
   ]
  },
  {
   "cell_type": "code",
   "execution_count": null,
   "metadata": {
    "papermill": {
     "duration": null,
     "end_time": null,
     "exception": null,
     "start_time": null,
     "status": "pending"
    },
    "tags": []
   },
   "outputs": [],
   "source": [
    "RF = RandomForestClassifier(n_estimators=100, criterion='entropy', random_state=0)  \n",
    "RF.fit(X_train2, y_train2)\n",
    "y_pred_RF2 = RF.predict(X_test2)\n",
    "print(\"RandomForestClassifier\")\n",
    "print(\"Accuracy: {:.2f}%\".format(accuracy_score(y_test2, y_pred_RF2)*100))\n",
    "print(classification_report(y_test2, y_pred_RF2))"
   ]
  },
  {
   "cell_type": "code",
   "execution_count": null,
   "metadata": {
    "papermill": {
     "duration": null,
     "end_time": null,
     "exception": null,
     "start_time": null,
     "status": "pending"
    },
    "tags": []
   },
   "outputs": [],
   "source": [
    "dtclassifier= DecisionTreeClassifier(criterion='entropy')\n",
    "dtclassifier.fit(X_train2,y_train2)\n",
    "y_pred_DT2 = dtclassifier.predict(X_test2)\n",
    "print(\"DecisionTreeClassifier\")\n",
    "print(\"Accuracy: {:.2f}%\".format(accuracy_score(y_test2, y_pred_DT2)*100))\n",
    "print(classification_report(y_test2, y_pred_DT2))"
   ]
  },
  {
   "cell_type": "code",
   "execution_count": null,
   "metadata": {
    "papermill": {
     "duration": null,
     "end_time": null,
     "exception": null,
     "start_time": null,
     "status": "pending"
    },
    "tags": []
   },
   "outputs": [],
   "source": [
    "nbclassifier=GaussianNB()\n",
    "nbclassifier.fit(X_train2, y_train2)\n",
    "nb_y_pred2 = nbclassifier.predict(X_test2)\n",
    "print(\"GaussianNB\")\n",
    "print(\"Accuracy: {:.2f}%\".format(accuracy_score(y_test2, nb_y_pred2)*100))\n",
    "print(classification_report(y_test2, nb_y_pred2))"
   ]
  },
  {
   "cell_type": "code",
   "execution_count": null,
   "metadata": {
    "papermill": {
     "duration": null,
     "end_time": null,
     "exception": null,
     "start_time": null,
     "status": "pending"
    },
    "tags": []
   },
   "outputs": [],
   "source": [
    "svmkclassifier =SVC(kernel ='rbf',random_state=0,gamma='auto')\n",
    "svmkclassifier.fit(X_train2, y_train2)\n",
    "y_pred_SVMK2 = svmkclassifier.predict(X_test2)\n",
    "print(\"svmkclassifier\")\n",
    "print(\"Accuracy: {:.2f}%\".format(accuracy_score(y_test2, y_pred_SVMK2)*100))\n",
    "print(classification_report(y_test2, y_pred_SVMK2))"
   ]
  },
  {
   "cell_type": "code",
   "execution_count": null,
   "metadata": {
    "papermill": {
     "duration": null,
     "end_time": null,
     "exception": null,
     "start_time": null,
     "status": "pending"
    },
    "tags": []
   },
   "outputs": [],
   "source": [
    "bg=BaggingClassifier(base_estimator=DecisionTreeClassifier(), n_estimators=100, random_state=15)\n",
    "bg.fit(X_train2, y_train2)\n",
    "y_pred_bg2 = bg.predict(X_test2)\n",
    "print(\"BaggingClassifier\")\n",
    "print(\"Accuracy: {:.2f}%\".format(accuracy_score(y_test2, y_pred_bg2)*100))\n",
    "print(classification_report(y_test2, y_pred_bg2))"
   ]
  },
  {
   "cell_type": "code",
   "execution_count": null,
   "metadata": {
    "papermill": {
     "duration": null,
     "end_time": null,
     "exception": null,
     "start_time": null,
     "status": "pending"
    },
    "tags": []
   },
   "outputs": [],
   "source": [
    "et=ExtraTreesClassifier(n_estimators=100, max_features=4)\n",
    "et.fit(X_train2, y_train2)\n",
    "y_pred_et2 = et.predict(X_test2)\n",
    "print(\"ExtraTreesClassifier\")\n",
    "print(\"Accuracy: {:.2f}%\".format(accuracy_score(y_test2, y_pred_et2)*100))\n",
    "print(classification_report(y_test2, y_pred_et2))"
   ]
  },
  {
   "cell_type": "code",
   "execution_count": null,
   "metadata": {
    "papermill": {
     "duration": null,
     "end_time": null,
     "exception": null,
     "start_time": null,
     "status": "pending"
    },
    "tags": []
   },
   "outputs": [],
   "source": [
    "adb=AdaBoostClassifier(n_estimators=50, random_state=4)\n",
    "adb.fit(X_train2, y_train2)\n",
    "y_pred_adb2 = adb.predict(X_test2)\n",
    "print(\"AdaBoostClassifier\")\n",
    "print(\"Accuracy: {:.2f}%\".format(accuracy_score(y_test2, y_pred_adb2)*100))\n",
    "print(classification_report(y_test2, y_pred_adb2))"
   ]
  },
  {
   "cell_type": "code",
   "execution_count": null,
   "metadata": {
    "papermill": {
     "duration": null,
     "end_time": null,
     "exception": null,
     "start_time": null,
     "status": "pending"
    },
    "tags": []
   },
   "outputs": [],
   "source": [
    "gb=GradientBoostingClassifier(n_estimators=1000, random_state=4)\n",
    "gb.fit(X_train2, y_train2)\n",
    "y_pred_gb2 = gb.predict(X_test2)\n",
    "print(\"GradientBoostingClassifier\")\n",
    "print(\"Accuracy: {:.2f}%\".format(accuracy_score(y_test2, y_pred_gb2)*100))\n",
    "print(classification_report(y_test2, y_pred_gb2))"
   ]
  },
  {
   "cell_type": "code",
   "execution_count": null,
   "metadata": {
    "papermill": {
     "duration": null,
     "end_time": null,
     "exception": null,
     "start_time": null,
     "status": "pending"
    },
    "tags": []
   },
   "outputs": [],
   "source": [
    "kmeans = KMeans(n_clusters =2, init = 'k-means++', random_state =0)\n",
    "kmeans.fit(X_train2)\n",
    "labels = kmeans.predict(X_train2)\n",
    "km_y_pred2=kmeans.predict(X_test2)\n",
    "km_acc2 = accuracy_score(y_test2, km_y_pred2)\n",
    "print(km_acc2)\n",
    "print(classification_report(y_test2, km_y_pred2))"
   ]
  }
 ],
 "metadata": {
  "kernelspec": {
   "display_name": "Python 3 (ipykernel)",
   "language": "python",
   "name": "python3"
  },
  "language_info": {
   "codemirror_mode": {
    "name": "ipython",
    "version": 3
   },
   "file_extension": ".py",
   "mimetype": "text/x-python",
   "name": "python",
   "nbconvert_exporter": "python",
   "pygments_lexer": "ipython3",
   "version": "3.9.7"
  },
  "papermill": {
   "duration": 14.139111,
   "end_time": "2022-02-04T06:55:48.541219",
   "environment_variables": {},
   "exception": true,
   "input_path": "__notebook__.ipynb",
   "output_path": "__notebook__.ipynb",
   "parameters": {},
   "start_time": "2022-02-04T06:55:34.402108",
   "version": "2.1.0"
  }
 },
 "nbformat": 4,
 "nbformat_minor": 4
}
